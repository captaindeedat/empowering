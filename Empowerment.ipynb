{
 "cells": [
  {
   "cell_type": "markdown",
   "metadata": {},
   "source": [
    "# Project Empower"
   ]
  },
  {
   "cell_type": "markdown",
   "metadata": {},
   "source": [
    "### The aim of this project is to combat unemployment rate in Nigeria through suggestion of reasonable means of utilization of individual skills to fully eliminate dependency on scarce jobs. We expose job seekers to experts in a desired field for better productivity. "
   ]
  },
  {
   "cell_type": "markdown",
   "metadata": {},
   "source": [
    "We will attempt to fetch information from a database(In our case pgAdmin 4 and postgresql as sql) using the psycopg2 library. We will use TraitsUI library to display the result."
   ]
  },
  {
   "cell_type": "code",
   "execution_count": 1,
   "metadata": {},
   "outputs": [],
   "source": [
    "import psycopg2 as pg2"
   ]
  },
  {
   "cell_type": "code",
   "execution_count": 2,
   "metadata": {},
   "outputs": [],
   "source": [
    "from traits.api import HasTraits, Str, Range, Enum, Int, Button\n",
    "from traitsui.api import Item, RangeEditor, View, Label"
   ]
  },
  {
   "cell_type": "code",
   "execution_count": 3,
   "metadata": {},
   "outputs": [],
   "source": [
    "my_password = 'Your database password goes here'"
   ]
  },
  {
   "cell_type": "code",
   "execution_count": 4,
   "metadata": {},
   "outputs": [],
   "source": [
    "#connecting to the database\n",
    "conn = pg2.connect(database=\"Empower\", user=\"postgres\", password=my_password)"
   ]
  },
  {
   "cell_type": "code",
   "execution_count": 5,
   "metadata": {},
   "outputs": [],
   "source": [
    "cur = conn.cursor()"
   ]
  },
  {
   "cell_type": "markdown",
   "metadata": {},
   "source": [
    "Let's get the first five content from our database"
   ]
  },
  {
   "cell_type": "code",
   "execution_count": 6,
   "metadata": {},
   "outputs": [],
   "source": [
    "#we have a table named Business in our database\n",
    "cur.execute(\"Select * from Business Limit 5;\")\n",
    "data = cur.fetchall()"
   ]
  },
  {
   "cell_type": "code",
   "execution_count": 9,
   "metadata": {},
   "outputs": [
    {
     "name": "stdout",
     "output_type": "stream",
     "text": [
      "(1, 1, 'Vulcanizing/Tyre repairs and maintenance', 'Vulcanizing/Tyre repairs and maintenance', 'technical know how', '50k', '50k', '80k monthly/ 960k yearly', 3, 'nan', '9030473437', 'nan', 'Get a larger space', 50000, 50000)\n",
      "(2, 6, 'Uzu Driving School Nsukka', 'Driving School', 'Driving Skills and Communication skills', '150k', '30k', '80k monthly/ 960k yearly', 2, 'nan', '8037755083', '500k', 'Get more cars', 150000, 30000)\n",
      "(3, 6, 'Laptop Importation/Sales', 'Laptop Importation/Sales', 'Marketing Skills', '300k', '30k', '80k monthly/ 960k yearly', 2, 'nan', '90242091406', '1 million', 'get more branches', 300000, 30000)\n",
      "(4, 6, 'Dj palata Djing services', 'Djing Services', 'technical know how', '200k', '20k', '80k monthly/ 960k yearly', 0, 'nan', '8064290423', '400k', 'Buy advanced equipments', 200000, 20000)\n",
      "(5, 4, 'Mandela Private Fitness Trainer', 'Private Fitness Trainer', 'technical know how and Patience', '40k', '20k', '80k monthly/ 960k yearly', 1, 'nan', '8039520797', '300k', 'get a big hall', 40000, 20000)\n"
     ]
    }
   ],
   "source": [
    "for dt in data:\n",
    "    print(dt)"
   ]
  },
  {
   "cell_type": "markdown",
   "metadata": {},
   "source": [
    "To have a proper view of our data, we will use the pandas library to display it from a csv file."
   ]
  },
  {
   "cell_type": "code",
   "execution_count": 10,
   "metadata": {},
   "outputs": [],
   "source": [
    "import numpy as np\n",
    "import pandas as pd"
   ]
  },
  {
   "cell_type": "code",
   "execution_count": 12,
   "metadata": {},
   "outputs": [
    {
     "data": {
      "text/html": [
       "<div>\n",
       "<style scoped>\n",
       "    .dataframe tbody tr th:only-of-type {\n",
       "        vertical-align: middle;\n",
       "    }\n",
       "\n",
       "    .dataframe tbody tr th {\n",
       "        vertical-align: top;\n",
       "    }\n",
       "\n",
       "    .dataframe thead th {\n",
       "        text-align: right;\n",
       "    }\n",
       "</style>\n",
       "<table border=\"1\" class=\"dataframe\">\n",
       "  <thead>\n",
       "    <tr style=\"text-align: right;\">\n",
       "      <th></th>\n",
       "      <th>business id</th>\n",
       "      <th>business name</th>\n",
       "      <th>business type</th>\n",
       "      <th>important skill</th>\n",
       "      <th>fund required</th>\n",
       "      <th>monthly expenditure</th>\n",
       "      <th>monthly annual profit</th>\n",
       "      <th>num staff</th>\n",
       "      <th>major product</th>\n",
       "      <th>contact phone</th>\n",
       "      <th>expansion capital</th>\n",
       "      <th>firstexpansion strategy</th>\n",
       "    </tr>\n",
       "  </thead>\n",
       "  <tbody>\n",
       "    <tr>\n",
       "      <td>0</td>\n",
       "      <td>1</td>\n",
       "      <td>Vulcanizing/Tyre repairs and maintenance</td>\n",
       "      <td>Vulcanizing/Tyre repairs and maintenance</td>\n",
       "      <td>technical know how</td>\n",
       "      <td>50k</td>\n",
       "      <td>50k</td>\n",
       "      <td>80k monthly/ 960k yearly</td>\n",
       "      <td>3</td>\n",
       "      <td>NaN</td>\n",
       "      <td>9030473437</td>\n",
       "      <td>NaN</td>\n",
       "      <td>Get a larger space</td>\n",
       "    </tr>\n",
       "    <tr>\n",
       "      <td>1</td>\n",
       "      <td>2</td>\n",
       "      <td>Uzu Driving School Nsukka</td>\n",
       "      <td>Driving School</td>\n",
       "      <td>Driving Skills and Communication skills</td>\n",
       "      <td>150k</td>\n",
       "      <td>30k</td>\n",
       "      <td>80k monthly/ 960k yearly</td>\n",
       "      <td>2</td>\n",
       "      <td>NaN</td>\n",
       "      <td>8037755083</td>\n",
       "      <td>500k</td>\n",
       "      <td>Get more cars</td>\n",
       "    </tr>\n",
       "    <tr>\n",
       "      <td>2</td>\n",
       "      <td>3</td>\n",
       "      <td>Laptop Importation/Sales</td>\n",
       "      <td>Laptop Importation/Sales</td>\n",
       "      <td>Marketing Skills</td>\n",
       "      <td>300k</td>\n",
       "      <td>30k</td>\n",
       "      <td>80k monthly/ 960k yearly</td>\n",
       "      <td>2</td>\n",
       "      <td>NaN</td>\n",
       "      <td>90242091406</td>\n",
       "      <td>1 million</td>\n",
       "      <td>get more branches</td>\n",
       "    </tr>\n",
       "    <tr>\n",
       "      <td>3</td>\n",
       "      <td>4</td>\n",
       "      <td>Dj palata Djing services</td>\n",
       "      <td>Djing Services</td>\n",
       "      <td>technical know how</td>\n",
       "      <td>200k</td>\n",
       "      <td>20k</td>\n",
       "      <td>80k monthly/ 960k yearly</td>\n",
       "      <td>0</td>\n",
       "      <td>NaN</td>\n",
       "      <td>8064290423</td>\n",
       "      <td>400k</td>\n",
       "      <td>Buy advanced equipments</td>\n",
       "    </tr>\n",
       "    <tr>\n",
       "      <td>4</td>\n",
       "      <td>5</td>\n",
       "      <td>Mandela Private Fitness Trainer</td>\n",
       "      <td>Private Fitness Trainer</td>\n",
       "      <td>technical know how and Patience</td>\n",
       "      <td>40k</td>\n",
       "      <td>20k</td>\n",
       "      <td>80k monthly/ 960k yearly</td>\n",
       "      <td>1</td>\n",
       "      <td>NaN</td>\n",
       "      <td>8039520797</td>\n",
       "      <td>300k</td>\n",
       "      <td>get a big hall</td>\n",
       "    </tr>\n",
       "  </tbody>\n",
       "</table>\n",
       "</div>"
      ],
      "text/plain": [
       "   business id                             business name  \\\n",
       "0            1  Vulcanizing/Tyre repairs and maintenance   \n",
       "1            2                 Uzu Driving School Nsukka   \n",
       "2            3                  Laptop Importation/Sales   \n",
       "3            4                  Dj palata Djing services   \n",
       "4            5           Mandela Private Fitness Trainer   \n",
       "\n",
       "                              business type  \\\n",
       "0  Vulcanizing/Tyre repairs and maintenance   \n",
       "1                            Driving School   \n",
       "2                  Laptop Importation/Sales   \n",
       "3                            Djing Services   \n",
       "4                   Private Fitness Trainer   \n",
       "\n",
       "                           important skill  fund required  \\\n",
       "0                       technical know how            50k   \n",
       "1  Driving Skills and Communication skills           150k   \n",
       "2                         Marketing Skills           300k   \n",
       "3                       technical know how           200k   \n",
       "4          technical know how and Patience            40k   \n",
       "\n",
       "   monthly expenditure     monthly annual profit  num staff  major product  \\\n",
       "0                  50k  80k monthly/ 960k yearly          3            NaN   \n",
       "1                  30k  80k monthly/ 960k yearly          2            NaN   \n",
       "2                  30k  80k monthly/ 960k yearly          2            NaN   \n",
       "3                  20k  80k monthly/ 960k yearly          0            NaN   \n",
       "4                  20k  80k monthly/ 960k yearly          1            NaN   \n",
       "\n",
       "  contact phone  expansion capital  firstexpansion strategy  \n",
       "0     9030473437               NaN       Get a larger space  \n",
       "1     8037755083              500k            Get more cars  \n",
       "2    90242091406         1 million        get more branches  \n",
       "3     8064290423              400k  Buy advanced equipments  \n",
       "4     8039520797              300k           get a big hall  "
      ]
     },
     "execution_count": 12,
     "metadata": {},
     "output_type": "execute_result"
    }
   ],
   "source": [
    "empow = pd.read_csv('businessData.csv')\n",
    "empow.head()"
   ]
  },
  {
   "cell_type": "markdown",
   "metadata": {},
   "source": [
    "We will now attempt to fetch information from a database based on 3 criterias. Number of staffs required, fund required to start the business and the monthly expenditure. "
   ]
  },
  {
   "cell_type": "markdown",
   "metadata": {},
   "source": [
    "Let's categories the above criteria and see how it looks."
   ]
  },
  {
   "cell_type": "code",
   "execution_count": 19,
   "metadata": {},
   "outputs": [
    {
     "data": {
      "text/plain": [
       "True"
      ]
     },
     "execution_count": 19,
     "metadata": {},
     "output_type": "execute_result"
    }
   ],
   "source": [
    "class Empower(HasTraits):\n",
    "    number_of_staffs = Enum('1 - 10','11 - 20','21 - 50')\n",
    "    fund_required = Enum('1k - 50k','51k - 200k','210k - 1M','1.1M - 50M','51M - 100M')\n",
    "    monthly_expenditure = Enum('1k - 50k','51k - 200k','210k - 1M','1.1M - 15M')\n",
    "    \n",
    "empower = Empower()\n",
    "\n",
    "Empower_view = View(\n",
    "    Label('Select the options that best suits you.'),\n",
    "    Item('number_of_staffs', width = 150),\n",
    "    Item('fund_required', width = 150),\n",
    "    Item('monthly_expenditure', width = 150),\n",
    "    buttons=['OK', 'Cancel'],\n",
    "    title = 'Combating Unemployment through Youth Empowerment',\n",
    "    resizable = True\n",
    ")\n",
    "empower.configure_traits(view=Empower_view)"
   ]
  },
  {
   "cell_type": "markdown",
   "metadata": {},
   "source": [
    "Let's create a simple function to extract details from our VIEW "
   ]
  },
  {
   "cell_type": "code",
   "execution_count": 14,
   "metadata": {},
   "outputs": [
    {
     "data": {
      "text/plain": [
       "[210000, 1000000]"
      ]
     },
     "execution_count": 14,
     "metadata": {},
     "output_type": "execute_result"
    }
   ],
   "source": [
    "def getLimit(param):\n",
    "    x,y = param.split(' - ')\n",
    "    if 'k' in x:\n",
    "        x = float(x[:-1]) * 1000\n",
    "    elif 'M' in x:\n",
    "        x = float(x[:-1]) * 1000000\n",
    "    if 'k' in y:\n",
    "        y = float(y[:-1]) * 1000\n",
    "    elif 'M' in y:\n",
    "        y = float(y[:-1]) * 1000000\n",
    "    return [int(x),int(y)]\n",
    "getLimit('210k - 1M')"
   ]
  },
  {
   "cell_type": "code",
   "execution_count": 20,
   "metadata": {},
   "outputs": [
    {
     "data": {
      "text/plain": [
       "[1000, 50000]"
      ]
     },
     "execution_count": 20,
     "metadata": {},
     "output_type": "execute_result"
    }
   ],
   "source": [
    "getLimit(empower.fund_required)"
   ]
  },
  {
   "cell_type": "markdown",
   "metadata": {},
   "source": [
    "Now we will create another function to extract information from the database using information from our VIEW."
   ]
  },
  {
   "cell_type": "code",
   "execution_count": 16,
   "metadata": {},
   "outputs": [],
   "source": [
    "def fetchData(number_of_staffs,fund_required,monthly_expenditure):\n",
    "    k1 = getLimit(empower.number_of_staffs)\n",
    "    k2 = getLimit(empower.fund_required)\n",
    "    k3 = getLimit(empower.monthly_expenditure)\n",
    "\n",
    "    q1 = 'select business_name,important_skill,fund_required,monthly_annual_profit,contact_phone from Business '\n",
    "    q2 = 'where number_staff between ' + str(k1[0]) + ' and ' + str(k2[1]) + ' and '\n",
    "    q3 = 'actual_fund between ' + str(k2[0]) + ' and ' + str(k2[1]) + ' and '\n",
    "    q4 = 'actual_monthly_expenditure between ' + str(k3[0]) + ' and ' + str(k3[1]) + ';'\n",
    "    qry = q1 + q2 + q3 + q4\n",
    "\n",
    "    cur.execute(qry)\n",
    "    details = cur.fetchall()\n",
    "    return details"
   ]
  },
  {
   "cell_type": "markdown",
   "metadata": {},
   "source": [
    "We will create another function to format our generated result."
   ]
  },
  {
   "cell_type": "code",
   "execution_count": 17,
   "metadata": {},
   "outputs": [],
   "source": [
    "def Result(det):\n",
    "    res = 'Business Name| Important Skill| Fund Required| Monthly Annual Profit| Expert Phone Number \\n'\n",
    "    for dt in det:\n",
    "        res += '| '.join(dt)\n",
    "        res += '\\n'\n",
    "    return res"
   ]
  },
  {
   "cell_type": "markdown",
   "metadata": {},
   "source": [
    "Let us get information from the database based on our above selection"
   ]
  },
  {
   "cell_type": "code",
   "execution_count": 21,
   "metadata": {},
   "outputs": [
    {
     "name": "stdout",
     "output_type": "stream",
     "text": [
      "Business Name| Important Skill| Fund Required| Monthly Annual Profit| Expert Phone Number \n",
      "Vulcanizing/Tyre repairs and maintenance| technical know how| 50k| 80k monthly/ 960k yearly| 9030473437\n",
      "Mandela Private Fitness Trainer| technical know how and Patience| 40k| 80k monthly/ 960k yearly| 8039520797\n",
      "Korede Butcher/ Meat Dealer| technical know how| 30k| 80k monthly/ 960k yearly| 8164610970\n",
      "Idoko Motorcycle Repairs| technical know how| 50k| 60k/720k| 8031337992\n",
      "Seyi Phone Repairs| technical know how| 40k| 60k/720k| 8184800116\n",
      "Fruit Emporium Fruit sales| Managerial Skills| 50k| 60k/720k| 8034471367\n",
      "Fruit Emporium Fruit sales| Managerial Skills| 50k| 60k/720k| 8034471367\n",
      "Fruit Emporium Fruit sales| Managerial Skills| 50k| 60k/720k| 8034471367\n",
      "Forever bee honey centre| technical know how| 50k| 50k/600k| 8146467751\n",
      "Mayreez Crafts Business| technical know how| 40k| 50k/600k| 7065837854\n",
      "Mama Malik Charcoal and Firewood| Managerial Skills and technical know how| 40k| 50k/600k| 8098073574\n",
      "Ara Phone Battery Chargers| Managerial Skills and technical know how| 40k| 40k monthly/ 480k yearly| 8032952404\n",
      "Shalom Book Stores| Managerial Skills| 50k| 40k monthly/ 480k yearly| 8035630725\n",
      "Iya Eleyin Chilli Pepper Farmers| Farming Skills | 40k| 40k monthly/ 480k yearly| 8091139538\n",
      "Twins Snail Farm| Knowing the best specie of snails| 50k| 100k monthly/ 1.2 million yearly| 8067196185\n",
      "Nonso Beads making| technical know how| 40k| 100k monthly/ 1.2 million yearly| 8066100090\n",
      "Airflow Engineering Works Generator Repairs| technical know how| 50k| 100-150k monthly/ 1.2- 1.6million yearly| 8075093781\n",
      "T.I Fridge repairs| technical know how| 50k| 100-150k monthly/ 1.2- 1.6million yearly| 8029764421\n",
      "Onu Plumbing Services| technical know how| 50k| 100-150k monthly/ 1.2- 1.6million yearly| 8138588032\n",
      "\n"
     ]
    }
   ],
   "source": [
    "details = fetchData(empower.number_of_staffs,empower.fund_required,empower.monthly_expenditure)\n",
    "print(Result(details))"
   ]
  },
  {
   "cell_type": "markdown",
   "metadata": {},
   "source": [
    "Let's complete the the GUI to fetch data from the database and display the result"
   ]
  },
  {
   "cell_type": "code",
   "execution_count": 23,
   "metadata": {},
   "outputs": [],
   "source": [
    "class Empower(HasTraits):\n",
    "    number_of_staffs = Enum('1 - 10','11 - 20','21 - 50')\n",
    "    fund_required = Enum('1k - 50k','51k - 200k','210k - 1M','1.1M - 50M','51M - 100M')\n",
    "    monthly_expenditure = Enum('1k - 50k','51k - 200k','210k - 1M','1.1M - 15M')\n",
    "    \n",
    "empower = Empower()\n",
    "\n",
    "Empower_view = View(\n",
    "    Label('Select the options that best suits you.'),\n",
    "    Item('number_of_staffs', width = 150),\n",
    "    Item('fund_required', width = 150),\n",
    "    Item('monthly_expenditure', width = 150),\n",
    "    buttons=['OK', 'Cancel'],\n",
    "    title = 'Combating Unemployment through Youth Empowerment',\n",
    "    resizable = True\n",
    ")\n",
    "\n",
    "class AllDetails(HasTraits):\n",
    "    name = Str\n",
    "    \n",
    "alldetails = AllDetails()\n",
    "\n",
    "if empower.configure_traits(view=Empower_view):\n",
    "    ftd = fetchData(empower.number_of_staffs,empower.fund_required,empower.monthly_expenditure)\n",
    "    det = Result(ftd)\n",
    "    AllDetails_view = View(\n",
    "        Label('Details of your Selection'),\n",
    "        Label(det),\n",
    "        buttons=['OK', 'Cancel'],\n",
    "        title = 'Entrepreneur Details',\n",
    "        resizable = True\n",
    "    )\n",
    "    alldetails.configure_traits(view=AllDetails_view)"
   ]
  },
  {
   "cell_type": "markdown",
   "metadata": {},
   "source": [
    "We will attempt to search a business type rather than using the above criteria.\n",
    "We will create a function to search the database."
   ]
  },
  {
   "cell_type": "code",
   "execution_count": 24,
   "metadata": {},
   "outputs": [],
   "source": [
    "def fetchSearch(s):\n",
    "    qr = 'select business_name,important_skill,fund_required,monthly_annual_profit,contact_phone from Business '\n",
    "    qr1 = \"where business_type ILIKE '%\" +s+ \"%';\"\n",
    "    qry = qr + qr1\n",
    "    cur.execute(qry)\n",
    "    details = cur.fetchall()\n",
    "    return details"
   ]
  },
  {
   "cell_type": "code",
   "execution_count": 28,
   "metadata": {},
   "outputs": [],
   "source": [
    "class SearchDetails(HasTraits):\n",
    "    name = Str\n",
    "    \n",
    "searchdetails = SearchDetails()\n",
    "\n",
    "class Search(HasTraits):\n",
    "    name = Str\n",
    "    \n",
    "search = Search()\n",
    "\n",
    "Search_view = View(\n",
    "    Label('What business do you have in mind?'),\n",
    "    Item('name', width = 150),\n",
    "    buttons=['OK', 'Cancel'],\n",
    "    title = 'Combating Unemployment through Youth Empowerment',\n",
    "    resizable = True\n",
    ")\n",
    "\n",
    "\n",
    "if search.configure_traits(view=Search_view):\n",
    "    ftd = fetchSearch(search.name)\n",
    "    det = Result(ftd)\n",
    "    SearchDetails_view = View(\n",
    "        Label('Details of your Selection'),\n",
    "        Label(det),\n",
    "        buttons=['OK', 'Cancel'],\n",
    "        title = 'Entrepreneur Details',\n",
    "        resizable = True\n",
    "    )\n",
    "    searchdetails.configure_traits(view=SearchDetails_view)"
   ]
  },
  {
   "cell_type": "markdown",
   "metadata": {},
   "source": [
    "We will attempt to implement the two criterias on a single View"
   ]
  },
  {
   "cell_type": "code",
   "execution_count": 30,
   "metadata": {},
   "outputs": [],
   "source": [
    "class Empowerment(HasTraits):\n",
    "    use_search_button = Button('Click here')\n",
    "    number_of_staffs = Enum('1 - 10','11 - 20','21 - 50')\n",
    "    fund_required = Enum('1k - 50k','51k - 200k','210k - 1M','1.1M - 50M','51M - 100M')\n",
    "    monthly_expenditure = Enum('1k - 50k','51k - 200k','210k - 1M','1.1M - 15M')\n",
    "    \n",
    "    def _use_search_button_fired(self):\n",
    "        if search.configure_traits(view=Search_view):\n",
    "            ftd = fetchSearch(search.name)\n",
    "            det = Result(ftd)\n",
    "            SearchDetails_view = View(\n",
    "                Label('Details of your Selection'),\n",
    "                Label(det),\n",
    "                buttons=['OK', 'Cancel'],\n",
    "                title = 'Entrepreneur Details',\n",
    "                resizable = True\n",
    "            )\n",
    "            searchdetails.configure_traits(view=SearchDetails_view)\n",
    "\n",
    "    traits_view = View(\n",
    "    'use_search_button',\n",
    "    Label('Select the options that best suits you.'),\n",
    "    Item('number_of_staffs', width = 150),\n",
    "    Item('fund_required', width = 150),\n",
    "    Item('monthly_expenditure', width = 150),\n",
    "    buttons=['OK', 'Cancel'],\n",
    "    title = 'Combating Unemployment through Youth Empowerment',\n",
    "    resizable = True\n",
    "    )\n",
    "empowerment = Empowerment()\n",
    "if empowerment.configure_traits():\n",
    "    ftd = fetchData(empowerment.number_of_staffs,empowerment.fund_required,empowerment.monthly_expenditure)\n",
    "    det = Result(ftd)\n",
    "    AllDetails_view = View(\n",
    "        Label('Details of your Selection'),\n",
    "        Label(det),\n",
    "        buttons=['OK', 'Cancel'],\n",
    "        title = 'Entrepreneur Details',\n",
    "        resizable = True\n",
    "    )\n",
    "    alldetails.configure_traits(view=AllDetails_view)"
   ]
  },
  {
   "cell_type": "markdown",
   "metadata": {},
   "source": [
    "# Thank You"
   ]
  },
  {
   "cell_type": "code",
   "execution_count": null,
   "metadata": {},
   "outputs": [],
   "source": []
  }
 ],
 "metadata": {
  "kernelspec": {
   "display_name": "Python 3",
   "language": "python",
   "name": "python3"
  },
  "language_info": {
   "codemirror_mode": {
    "name": "ipython",
    "version": 3
   },
   "file_extension": ".py",
   "mimetype": "text/x-python",
   "name": "python",
   "nbconvert_exporter": "python",
   "pygments_lexer": "ipython3",
   "version": "3.7.4"
  }
 },
 "nbformat": 4,
 "nbformat_minor": 2
}
